{
  "nbformat": 4,
  "nbformat_minor": 0,
  "metadata": {
    "colab": {
      "name": "SistemaArchivos.ipynb",
      "provenance": [],
      "collapsed_sections": [],
      "include_colab_link": true
    },
    "kernelspec": {
      "name": "python3",
      "display_name": "Python 3"
    },
    "language_info": {
      "name": "python"
    }
  },
  "cells": [
    {
      "cell_type": "markdown",
      "metadata": {
        "id": "view-in-github",
        "colab_type": "text"
      },
      "source": [
        "<a href=\"https://colab.research.google.com/github/Edgar-Mare/daa_2021_1/blob/master/SistemaArchivos.ipynb\" target=\"_parent\"><img src=\"https://colab.research.google.com/assets/colab-badge.svg\" alt=\"Open In Colab\"/></a>"
      ]
    },
    {
      "cell_type": "code",
      "metadata": {
        "id": "SbAqVKNFUj_f",
        "colab": {
          "base_uri": "https://localhost:8080/"
        },
        "outputId": "88d77049-b3ef-4299-9120-ef57526011b5"
      },
      "source": [
        "class Arbol:\n",
        "  def __init__(self, nombre, hijos=None, padre=None):\n",
        "    self.nombre = nombre\n",
        "    self.hijos = []\n",
        "    self.archivos = []\n",
        "    if (nombre!=\"root\"):\n",
        "      self.padre = padre\n",
        "\n",
        "  def agregarArchivo(self, nombre, contenido):\n",
        "      datos=[nombre, contenido]\n",
        "      self.hijos.append(datos)\n",
        "\n",
        "  def mostrarHijos(self):\n",
        "    return self.hijos\n",
        "\n",
        "  def siguienteCarpeta(nombreCarpeta):\n",
        "    for i in self.hijos:\n",
        "      if (i==nombreCarpeta):\n",
        "        return i;\n",
        "\n",
        "  def crearCarpeta(self, nombre):\n",
        "    self.hijos.append(Arbol(nombre))\n",
        "\n",
        "  def borrarCarpeta(self, nombre):\n",
        "    self.hijos.remove(nombre)\n",
        "\n",
        "  def borrarArchivo(self, nombre):\n",
        "    self.archivos.remove(nombre)\n",
        "\n",
        "  def cambiarNombre(self, nombre, nuevoNombre):\n",
        "    for i in hijos:\n",
        "      if i.getNombre==nombre:\n",
        "        i.setNombre(nuevoNombre)\n",
        "\n",
        "  def setNombre(self, nombre):\n",
        "    self.nombre=nombre\n",
        "\n",
        "  def getNombre(self):\n",
        "    return self.nombre"
      ],
      "execution_count": null,
      "outputs": [
        {
          "output_type": "stream",
          "text": [
            "ren\n",
            "e\n",
            "e\n"
          ],
          "name": "stdout"
        }
      ]
    },
    {
      "cell_type": "code",
      "metadata": {
        "colab": {
          "base_uri": "https://localhost:8080/"
        },
        "id": "EqF_u8vebXvN",
        "outputId": "22460471-4f02-4513-efbd-3ed2962efc07"
      },
      "source": [
        "def leerArchivo(nombre,baseSA):\n",
        "    indice=0\n",
        "    linea=baseSA[indice]\n",
        "    while(not linea.find(nombre)>=0):\n",
        "        indice+=1\n",
        "        if(indice>=len(baseSA)):\n",
        "            print(\"No se encontro el archivo\")\n",
        "            return 0\n",
        "        linea = baseSA[indice]\n",
        "    indice+=1\n",
        "    linea = baseSA[indice]\n",
        "    print(linea)\n",
        "    while(not linea.find(nombre)>=0):\n",
        "        indice+=1\n",
        "        if(indice>=len(baseSA)):\n",
        "            print(\"No se encontro el archivo\")\n",
        "            return 0\n",
        "        linea = baseSA[indice]\n",
        "    indice+=2\n",
        "    linea = baseSA[indice]\n",
        "    while(not linea.find(\"####################\")):\n",
        "        print(linea,end='')\n",
        "        indice+=1\n",
        "        linea = baseSA[indice]\n",
        "\n",
        "datosSA = open(\"archivos.sa\",\"r\")\n",
        "baseSA = []\n",
        "for x in datosSA:\n",
        "    baseSA.append(x)\n",
        "\n",
        "print(baseSA)\n",
        "leerArchivo(\"archivo.txt\", baseSA)\n"
      ],
      "execution_count": null,
      "outputs": [
        {
          "output_type": "stream",
          "text": [
            "['root\\n', '\\n', 'hola,mis archivos,Imagenes\\n', '\\n', '\\n', 'carpeta\\t\\tHola\\n', '\\n', 'texto.txt,Adios\\n', '\\n', '\\n', 'carpeta\\t\\tMis Archivos\\n', '\\n', 'archivo1.txt\\n', '\\n', '\\n', 'carpeta\\t\\tImagenes\\n', '\\n', 'imagen1.txt,imagen2.txt,archivo.txt\\n', '####################\\n', '\\n', 'archivo   archivo.txt\\n', '\\n', 'ewfcsddsdsfedefedcwe']\n",
            "####################\n",
            "\n"
          ],
          "name": "stdout"
        }
      ]
    },
    {
      "cell_type": "code",
      "metadata": {
        "colab": {
          "base_uri": "https://localhost:8080/",
          "height": 770
        },
        "id": "1j7Urhtzg2Nc",
        "outputId": "3c31f44c-d9ac-44bd-ee80-48613291fe6e"
      },
      "source": [
        "def leerArchivo(baseSA):\n",
        "  datosSA = open(\"archivos.sa\",\"r\")\n",
        "  baseSA = []\n",
        "  for x in datosSA:\n",
        "    baseSA.append(x)\n",
        "  print(baseSA)\n",
        "  for i in range(len(baseSA)):\n",
        "    print(i)\n",
        "    nodo=Arbol(nombre=baseSA[i])\n",
        "    i+=1\n",
        "    carpetas=baseSA[i].split(\",\")\n",
        "    for j in carpetas:\n",
        "      nodo.hijos.append(Arbol(nombre=j))\n",
        "  print(baseSA)    \n",
        "\n",
        "\n",
        "baseSA=[]\n",
        "\n",
        "leerArchivo(baseSA)\n"
      ],
      "execution_count": null,
      "outputs": [
        {
          "output_type": "stream",
          "text": [
            "['root\\n', '\\n', 'hola,Mis_Archivos,Imagenes\\n', '\\n', '\\n', 'Hola\\n', '\\n', 'texto.txt,Adios\\n', '\\n', '\\n', 'Mis_Archivos\\n', '\\n', 'archivo1.txt\\n', '\\n', '\\n', 'Imagenes\\n', '\\n', 'imagen1.txt,imagen2.txt,archivo.txt\\n', '####################\\n', '\\n', 'archivo   archivo.txt\\n', '\\n', 'ewfcsddsdsfedefedcwe']\n",
            "0\n",
            "1\n",
            "2\n",
            "3\n",
            "4\n",
            "5\n",
            "6\n",
            "7\n",
            "8\n",
            "9\n",
            "10\n",
            "11\n",
            "12\n",
            "13\n",
            "14\n",
            "15\n",
            "16\n",
            "17\n",
            "18\n",
            "19\n",
            "20\n",
            "21\n",
            "22\n"
          ],
          "name": "stdout"
        },
        {
          "output_type": "error",
          "ename": "IndexError",
          "evalue": "ignored",
          "traceback": [
            "\u001b[0;31m---------------------------------------------------------------------------\u001b[0m",
            "\u001b[0;31mIndexError\u001b[0m                                Traceback (most recent call last)",
            "\u001b[0;32m<ipython-input-29-a20c4e280ef3>\u001b[0m in \u001b[0;36m<module>\u001b[0;34m()\u001b[0m\n\u001b[1;32m     17\u001b[0m \u001b[0mbaseSA\u001b[0m\u001b[0;34m=\u001b[0m\u001b[0;34m[\u001b[0m\u001b[0;34m]\u001b[0m\u001b[0;34m\u001b[0m\u001b[0;34m\u001b[0m\u001b[0m\n\u001b[1;32m     18\u001b[0m \u001b[0;34m\u001b[0m\u001b[0m\n\u001b[0;32m---> 19\u001b[0;31m \u001b[0mleerArchivo\u001b[0m\u001b[0;34m(\u001b[0m\u001b[0mbaseSA\u001b[0m\u001b[0;34m)\u001b[0m\u001b[0;34m\u001b[0m\u001b[0;34m\u001b[0m\u001b[0m\n\u001b[0m",
            "\u001b[0;32m<ipython-input-29-a20c4e280ef3>\u001b[0m in \u001b[0;36mleerArchivo\u001b[0;34m(baseSA)\u001b[0m\n\u001b[1;32m      9\u001b[0m     \u001b[0mnodo\u001b[0m\u001b[0;34m=\u001b[0m\u001b[0mArbol\u001b[0m\u001b[0;34m(\u001b[0m\u001b[0mnombre\u001b[0m\u001b[0;34m=\u001b[0m\u001b[0mbaseSA\u001b[0m\u001b[0;34m[\u001b[0m\u001b[0mi\u001b[0m\u001b[0;34m]\u001b[0m\u001b[0;34m)\u001b[0m\u001b[0;34m\u001b[0m\u001b[0;34m\u001b[0m\u001b[0m\n\u001b[1;32m     10\u001b[0m     \u001b[0mi\u001b[0m\u001b[0;34m+=\u001b[0m\u001b[0;36m1\u001b[0m\u001b[0;34m\u001b[0m\u001b[0;34m\u001b[0m\u001b[0m\n\u001b[0;32m---> 11\u001b[0;31m     \u001b[0mcarpetas\u001b[0m\u001b[0;34m=\u001b[0m\u001b[0mbaseSA\u001b[0m\u001b[0;34m[\u001b[0m\u001b[0mi\u001b[0m\u001b[0;34m]\u001b[0m\u001b[0;34m.\u001b[0m\u001b[0msplit\u001b[0m\u001b[0;34m(\u001b[0m\u001b[0;34m\",\"\u001b[0m\u001b[0;34m)\u001b[0m\u001b[0;34m\u001b[0m\u001b[0;34m\u001b[0m\u001b[0m\n\u001b[0m\u001b[1;32m     12\u001b[0m     \u001b[0;32mfor\u001b[0m \u001b[0mj\u001b[0m \u001b[0;32min\u001b[0m \u001b[0mcarpetas\u001b[0m\u001b[0;34m:\u001b[0m\u001b[0;34m\u001b[0m\u001b[0;34m\u001b[0m\u001b[0m\n\u001b[1;32m     13\u001b[0m       \u001b[0mnodo\u001b[0m\u001b[0;34m.\u001b[0m\u001b[0mhijos\u001b[0m\u001b[0;34m.\u001b[0m\u001b[0mappend\u001b[0m\u001b[0;34m(\u001b[0m\u001b[0mArbol\u001b[0m\u001b[0;34m(\u001b[0m\u001b[0mnombre\u001b[0m\u001b[0;34m=\u001b[0m\u001b[0mj\u001b[0m\u001b[0;34m)\u001b[0m\u001b[0;34m)\u001b[0m\u001b[0;34m\u001b[0m\u001b[0;34m\u001b[0m\u001b[0m\n",
            "\u001b[0;31mIndexError\u001b[0m: list index out of range"
          ]
        }
      ]
    }
  ]
}
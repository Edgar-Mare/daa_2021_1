{
  "nbformat": 4,
  "nbformat_minor": 0,
  "metadata": {
    "colab": {
      "name": "13enero.ipynb",
      "provenance": [],
      "authorship_tag": "ABX9TyP4iSTJDvcdE7/qVBQQoUAU",
      "include_colab_link": true
    },
    "kernelspec": {
      "name": "python3",
      "display_name": "Python 3"
    }
  },
  "cells": [
    {
      "cell_type": "markdown",
      "metadata": {
        "id": "view-in-github",
        "colab_type": "text"
      },
      "source": [
        "<a href=\"https://colab.research.google.com/github/pandemicbat801/daa_2021_1/blob/master/13enero.ipynb\" target=\"_parent\"><img src=\"https://colab.research.google.com/assets/colab-badge.svg\" alt=\"Open In Colab\"/></a>"
      ]
    },
    {
      "cell_type": "code",
      "metadata": {
        "id": "p1ZQx1rdMPgw"
      },
      "source": [
        "class NodoArbol:\r\n",
        "  def __init__(self, value, left=None,right=None):\r\n",
        "    self.data=value\r\n",
        "    self.left=left\r\n",
        "    self.right=right"
      ],
      "execution_count": null,
      "outputs": []
    },
    {
      "cell_type": "markdown",
      "metadata": {
        "id": "QIJSGj6EMp1s"
      },
      "source": [
        "#Arbol Binario de búsqueda\r\n",
        "Los nodos a la izq son menores a la raiz y los nodods a la derecha son mayores a la raiz.\r\n",
        "Pueden ser recorridos en: pre-orden, in-orden y postt-orden."
      ]
    },
    {
      "cell_type": "code",
      "metadata": {
        "id": "WEZuiPcES3ka"
      },
      "source": [
        "class BinarySearchTree:\r\n",
        "  def __init__ (self):\r\n",
        "    self.__root__=None\r\n",
        "\r\n",
        "  def insert (self, value):\r\n",
        "    if self.__root__ == None:\r\n",
        "      self.__root__ = NodoArbol(value,None,None)\r\n",
        "    else:\r\n",
        "      #preguntar si value es menor que root, de ser el caso \r\n",
        "      #insertar a la izquierda. PERO ... Puede ser el caso que el \r\n",
        "      #subarbol izq.. tenga muchos elementos.0\r\n",
        "      self.__insert_nodo__(self.__root__,value)\r\n",
        "\r\n",
        "  def __insert_nodo__(self,nodo,value):\r\n",
        "    if nodo.data == value:\r\n",
        "      pass\r\n",
        "    elif value < nodo.data: #TRUE va a la izq\r\n",
        "      if nodo.left == None:#Si hay espacio a la izq ahi va\r\n",
        "        nodo.left=NodoArbol(value,None,None)#incertamos el nodo\r\n",
        "      else:\r\n",
        "        self.__insert_nodo__(nodo.left,value)\r\n",
        "    else:\r\n",
        "      if nodo.right== None:#Si hay espacio a la izq ahi va\r\n",
        "        nodo.right=NodoArbol(value,None,None)#incertamos el nodo\r\n",
        "      else:\r\n",
        "        self.__insert_nodo__(nodo.right,value)\r\n"
      ],
      "execution_count": null,
      "outputs": []
    },
    {
      "cell_type": "code",
      "metadata": {
        "id": "HlSA2p6QbvlG"
      },
      "source": [
        "bst=BinarySearchTree()\r\n",
        "bst.insert(50)\r\n",
        "bst.insert(30)\r\n",
        "bst.insert(20)"
      ],
      "execution_count": null,
      "outputs": []
    }
  ]
}
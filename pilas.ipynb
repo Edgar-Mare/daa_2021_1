{
  "nbformat": 4,
  "nbformat_minor": 0,
  "metadata": {
    "colab": {
      "name": "Untitled1.ipynb",
      "provenance": [],
      "authorship_tag": "ABX9TyOOwZHBoFz3B1D48lrM/ePv",
      "include_colab_link": true
    },
    "kernelspec": {
      "name": "python3",
      "display_name": "Python 3"
    }
  },
  "cells": [
    {
      "cell_type": "markdown",
      "metadata": {
        "id": "view-in-github",
        "colab_type": "text"
      },
      "source": [
        "<a href=\"https://colab.research.google.com/github/pandemicbat801/daa_2021_1/blob/master/pilas.ipynb\" target=\"_parent\"><img src=\"https://colab.research.google.com/assets/colab-badge.svg\" alt=\"Open In Colab\"/></a>"
      ]
    },
    {
      "cell_type": "code",
      "metadata": {
        "id": "q9CzRZeKYZe6"
      },
      "source": [
        "class stack:\n",
        "  def __init__ (self):\n",
        "    self.__datos=[]\n",
        "\n",
        "  def is_empty(self):\n",
        "    return len(self.__datos)==0\n",
        "\n",
        "  def get_top(self):\n",
        "    return self.__datos[-1]\n",
        "\n",
        "  def pop(self):\n",
        "    return self.__datos.pop()\n",
        "\n",
        "  def push(self,valor):\n",
        "    self.__datos.append(valor)\n",
        "\n",
        "  def get_length(self):\n",
        "    return len(self.__datos)\n",
        "\n",
        "  def to_string(self):\n",
        "    print('--------------------')\n",
        "    for ele in self.__datos[-1::-1]:\n",
        "      print(f'{ele}')\n",
        "    print('--------------------')\n",
        "\n"
      ],
      "execution_count": 7,
      "outputs": []
    },
    {
      "cell_type": "code",
      "metadata": {
        "id": "nedk6iMsYo8-",
        "outputId": "7e3c6fc8-b965-49a1-e8dc-5cb0f34843b5",
        "colab": {
          "base_uri": "https://localhost:8080/",
          "height": 85
        }
      },
      "source": [
        "import re\n",
        "def leer():\n",
        "    pila=stack()\n",
        "\n",
        "    patron_parentesi=re.compile(r'\\(')\n",
        "    patron_parentesisCierre=re.compile(r'\\)')\n",
        "    patron_corchete=re.compile(r'\\[')\n",
        "    patron_corcheteCierre=re.compile(r'\\]')\n",
        "    patron_llave=re.compile(r'\\{')\n",
        "    patron_llaveCierre=re.compile(r'\\}')\n",
        "\n",
        "    f = open(\"prueba.java\", \"r\")\n",
        "    while(True):\n",
        "        linea = f.readline()\n",
        "\n",
        "        resultado_parentesis=re.search(patron_parentesi,linea)\n",
        "        resultado_parentesisCierre=re.search(patron_parentesisCierre,linea)\n",
        "        resultado_corchete=re.search(patron_corchete,linea)\n",
        "        resultado_corcheteCierre=re.search(patron_corcheteCierre,linea)\n",
        "        resultado_llave=re.search(patron_llave,linea)\n",
        "        resultado_llaveCierre=re.search(patron_llaveCierre,linea)\n",
        "\n",
        "\n",
        "        if resultado_parentesis != None:\n",
        "          pila.push('parentesis no cerrado')\n",
        "\n",
        "        if resultado_parentesisCierre !=None:\n",
        "            if pila.is_empty():\n",
        "                pila.push('Falta parentesis de apertura')\n",
        "            else:\n",
        "                pila.pop()\n",
        "\n",
        "\n",
        "        if resultado_corchete != None:\n",
        "          pila.push('corchete no cerrado')\n",
        "\n",
        "        if resultado_corcheteCierre !=None:\n",
        "            if pila.is_empty():\n",
        "                pila.push('Falta parentesis de apertura')\n",
        "            else:\n",
        "                pila.pop()\n",
        "\n",
        "\n",
        "        if resultado_llave != None:\n",
        "          pila.push('pico parentesis no cerrado')\n",
        "\n",
        "        if resultado_llaveCierre !=None:\n",
        "            if pila.is_empty():\n",
        "                pila.push('Falta parentesis de apertura')\n",
        "            else:\n",
        "                pila.pop()\n",
        "\n",
        "        if not linea:\n",
        "\n",
        "            break\n",
        "    f.close()\n",
        "\n",
        "    print(f'{pila.to_string()}')\n",
        "    if pila.is_empty():\n",
        "        print('Esta balanceado')\n",
        "    else:\n",
        "        print('No esta balanceado')\n",
        "\n",
        "if __name__ == \"__main__\":\n",
        "    leer()"
      ],
      "execution_count": 43,
      "outputs": [
        {
          "output_type": "stream",
          "text": [
            "--------------------\n",
            "--------------------\n",
            "None\n",
            "Esta balanceado\n"
          ],
          "name": "stdout"
        }
      ]
    }
  ]
}
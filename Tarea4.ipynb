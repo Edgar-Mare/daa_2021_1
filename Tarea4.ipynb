{
  "nbformat": 4,
  "nbformat_minor": 0,
  "metadata": {
    "colab": {
      "name": "Untitled6.ipynb",
      "provenance": [],
      "authorship_tag": "ABX9TyOcENXB7jrCg7XuMZOs8rKU",
      "include_colab_link": true
    },
    "kernelspec": {
      "name": "python3",
      "display_name": "Python 3"
    }
  },
  "cells": [
    {
      "cell_type": "markdown",
      "metadata": {
        "id": "view-in-github",
        "colab_type": "text"
      },
      "source": [
        "<a href=\"https://colab.research.google.com/github/pandemicbat801/daa_2021_1/blob/master/Tarea4.ipynb\" target=\"_parent\"><img src=\"https://colab.research.google.com/assets/colab-badge.svg\" alt=\"Open In Colab\"/></a>"
      ]
    },
    {
      "cell_type": "code",
      "metadata": {
        "id": "wVpT0vjlbYaj",
        "outputId": "96aca8d6-1c12-44f4-97cf-b5b5fec26e6d",
        "colab": {
          "base_uri": "https://localhost:8080/",
          "height": 102
        }
      },
      "source": [
        "def ejemplo4(n):\n",
        "  count = 0\n",
        "  i = n\n",
        "  print('nivel 1')\n",
        "  while i >= 1:\n",
        "    count+=1\n",
        "    i = i //2\n",
        "    print('nivel 2')\n",
        "  basura = 3 + 2\n",
        "  return count\n",
        "\n",
        "if __name__ == \"__main__\":\n",
        "  print(f'Contador igual a: {ejemplo4(4)}')"
      ],
      "execution_count": 4,
      "outputs": [
        {
          "output_type": "stream",
          "text": [
            "nivel 1\n",
            "nivel 2\n",
            "nivel 2\n",
            "nivel 2\n",
            "Contador igual a 3\n"
          ],
          "name": "stdout"
        }
      ]
    }
  ]
}

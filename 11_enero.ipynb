{
  "nbformat": 4,
  "nbformat_minor": 0,
  "metadata": {
    "colab": {
      "name": "11-enero.ipynb",
      "provenance": [],
      "authorship_tag": "ABX9TyPHwEkw8vyTzJSMP8Huixi3",
      "include_colab_link": true
    },
    "kernelspec": {
      "name": "python3",
      "display_name": "Python 3"
    }
  },
  "cells": [
    {
      "cell_type": "markdown",
      "metadata": {
        "id": "view-in-github",
        "colab_type": "text"
      },
      "source": [
        "<a href=\"https://colab.research.google.com/github/pandemicbat801/daa_2021_1/blob/master/11_enero.ipynb\" target=\"_parent\"><img src=\"https://colab.research.google.com/assets/colab-badge.svg\" alt=\"Open In Colab\"/></a>"
      ]
    },
    {
      "cell_type": "code",
      "metadata": {
        "id": "M2Zh1hqk5OcO"
      },
      "source": [
        "class NodoArbol:\r\n",
        "  def __init__(self, value, left=None,rigth=None):\r\n",
        "    self.data=value\r\n",
        "    self.left=left\r\n",
        "    self.rigth=rigth"
      ],
      "execution_count": 3,
      "outputs": []
    },
    {
      "cell_type": "code",
      "metadata": {
        "id": "hLJWTd2P8t92"
      },
      "source": [
        "arbol=NodoArbol(\"R\",NodoArbol(\"C\"),NodoArbol(\"H\"))"
      ],
      "execution_count": 4,
      "outputs": []
    },
    {
      "cell_type": "code",
      "metadata": {
        "id": "ES9ErOch91rA"
      },
      "source": [
        "nodo1=NodoArbol(\"C\")\r\n",
        "nodo2=NodoArbol(\"H\")\r\n",
        "arbol_v2=NodoArbol(\"R\",nodo1,nodo2)"
      ],
      "execution_count": 5,
      "outputs": []
    },
    {
      "cell_type": "code",
      "metadata": {
        "id": "9u5hEYU5-LlY"
      },
      "source": [
        "print(arbol.rigth.data)"
      ],
      "execution_count": null,
      "outputs": []
    },
    {
      "cell_type": "code",
      "metadata": {
        "id": "JOWIYXVH_CB-"
      },
      "source": [
        "arbol2=NodoArbol(4,NodoArbol(3,NodoArbol(2,NodoArbol(2))),NodoArbol(5))\r\n",
        "\r\n",
        "print(arbol2.left.left.left.data)"
      ],
      "execution_count": null,
      "outputs": []
    },
    {
      "cell_type": "code",
      "metadata": {
        "id": "niNXNedLDA7g"
      },
      "source": [
        "aux=arbol2\r\n",
        "while aux.left != None:\r\n",
        "  aux=aux.left\r\n",
        "print(aux.data)"
      ],
      "execution_count": null,
      "outputs": []
    },
    {
      "cell_type": "code",
      "metadata": {
        "colab": {
          "base_uri": "https://localhost:8080/"
        },
        "id": "u2PuZghrEpMm",
        "outputId": "fe72aac8-3239-44bc-a8b1-137fef251425"
      },
      "source": [
        "arbol3=NodoArbol(\"Sani\",None,NodoArbol(\"Jesus\",NodoArbol(\"Pedro\",None,NodoArbol(\"Diana\")),None))\r\n",
        "print(arbol3.rigth.left.rigth.data)"
      ],
      "execution_count": 12,
      "outputs": [
        {
          "output_type": "stream",
          "text": [
            "Diana\n"
          ],
          "name": "stdout"
        }
      ]
    }
  ]
}
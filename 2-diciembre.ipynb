{
  "nbformat": 4,
  "nbformat_minor": 0,
  "metadata": {
    "colab": {
      "name": "Untitled8.ipynb",
      "provenance": [],
      "authorship_tag": "ABX9TyNHMSA+3p5PLvdZUSJg2nHc",
      "include_colab_link": true
    },
    "kernelspec": {
      "name": "python3",
      "display_name": "Python 3"
    }
  },
  "cells": [
    {
      "cell_type": "markdown",
      "metadata": {
        "id": "view-in-github",
        "colab_type": "text"
      },
      "source": [
        "<a href=\"https://colab.research.google.com/github/pandemicbat801/daa_2021_1/blob/master/2-diciembre.ipynb\" target=\"_parent\"><img src=\"https://colab.research.google.com/assets/colab-badge.svg\" alt=\"Open In Colab\"/></a>"
      ]
    },
    {
      "cell_type": "code",
      "metadata": {
        "id": "MXJ_rBY8_nQV"
      },
      "source": [
        "def fnRec( x ):\n",
        "  if x == 0:\n",
        "    print(\"stop\")\n",
        "  else:\n",
        "    print( x )\n",
        "    fnRec( x - 1 )\n",
        "\n",
        "def main():\n",
        "  print(\"Inicio del programa\")\n",
        "  fnRec( 5 )\n",
        "  print(\"Fin del programa\")\n",
        "\n",
        "main() "
      ],
      "execution_count": null,
      "outputs": []
    },
    {
      "cell_type": "code",
      "metadata": {
        "id": "BVd0TOqq_4zT"
      },
      "source": [
        "def printRev(x):\n",
        "  if x > 0:\n",
        "    print( x )\n",
        "    printRev( x-1 )\n",
        "\n",
        "printRev(3)"
      ],
      "execution_count": null,
      "outputs": []
    },
    {
      "cell_type": "code",
      "metadata": {
        "id": "yR3NFLtaNG-P"
      },
      "source": [
        "def fibonacci(n):\n",
        "    if n == 1 or n == 0:\n",
        "      return n\n",
        "    else :\n",
        "      return (fibonacci(n-1) + fibonacci(n-2) )\n",
        "\n",
        "print(fibonacci(8))"
      ],
      "execution_count": null,
      "outputs": []
    }
  ]
}
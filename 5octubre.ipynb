{
  "nbformat": 4,
  "nbformat_minor": 0,
  "metadata": {
    "colab": {
      "name": "5octubre.ipynb",
      "provenance": [],
      "authorship_tag": "ABX9TyOObS7+F+pF9p/kgH7+MvrX",
      "include_colab_link": true
    },
    "kernelspec": {
      "name": "python3",
      "display_name": "Python 3"
    }
  },
  "cells": [
    {
      "cell_type": "markdown",
      "metadata": {
        "id": "view-in-github",
        "colab_type": "text"
      },
      "source": [
        "<a href=\"https://colab.research.google.com/github/pandemicbat801/daa_2021_1/blob/master/5octubre.ipynb\" target=\"_parent\"><img src=\"https://colab.research.google.com/assets/colab-badge.svg\" alt=\"Open In Colab\"/></a>"
      ]
    },
    {
      "cell_type": "markdown",
      "metadata": {
        "id": "T1Ajw29NBmgW"
      },
      "source": [
        "#Estructura de datos pila\n",
        "- Last in First out LIFO\n",
        "- Es de tipo lineal\n",
        "- Se puede ingresar y sacar datos desde el tope.\n",
        "- push para agregar\n",
        "- pop paara sacar\n",
        "\n",
        "##Operaciones de las pilas\n",
        "1. is_empty (regresa true o false)\n",
        "1. get_top (regresa el elemento en el tope sin sacarlo)\n",
        "1. pop (saca el elemento del tope de la pila)\n",
        "1. push (mete un elemento al tope de la pila)\n",
        "\n"
      ]
    },
    {
      "cell_type": "code",
      "metadata": {
        "id": "buvCcn2z_BSo"
      },
      "source": [
        "class stack:\n",
        "  def __init__ (self):\n",
        "    self.__datos=[]\n",
        "\n",
        "  def is_empty(self):\n",
        "    return len(self.__datos)==0\n",
        "\n",
        "  def get_top(self):\n",
        "    return self.__datos[-1]\n",
        "\n",
        "  def pop(self):\n",
        "    return self.__datos.pop()\n",
        "\n",
        "  def push(self,valor):\n",
        "    self.__datos.append(valor)\n",
        "\n",
        "  def get_length(self):\n",
        "    return len(self.__datos)\n",
        "\n",
        "  def to_string(self):\n",
        "    print('--------------------')\n",
        "    for ele in self.__datos[-1::-1]:\n",
        "      print(f'{ele}')\n",
        "    print('--------------------')"
      ],
      "execution_count": 9,
      "outputs": []
    },
    {
      "cell_type": "code",
      "metadata": {
        "id": "A8_gpQAXFUnK",
        "outputId": "01c83948-d882-46b0-9a5e-33ea96ea3ad3",
        "colab": {
          "base_uri": "https://localhost:8080/",
          "height": 442
        }
      },
      "source": [
        "pila1=stack()\n",
        "pila1.push(10)\n",
        "pila1.push(20)\n",
        "pila1.push(1)\n",
        "pila1.push(393)\n",
        "pila1.push(103)\n",
        "pila1.to_string()\n",
        "\n",
        "sacado=pila1.pop()\n",
        "print(sacado)\n",
        "pila1.to_string()\n",
        "\n",
        "pila1.push(444)\n",
        "pila1.push(233)\n",
        "pila1.to_string()\n",
        "\n",
        "\n",
        "print(f'Elemento en el tope es {pila1.get_top()}')\n",
        "print(f'La pila tiene {pila1.get_length()} elementos')\n",
        "print(f'¿La pila esta vacia?: {pila1.is_empty()}')"
      ],
      "execution_count": 14,
      "outputs": [
        {
          "output_type": "stream",
          "text": [
            "--------------------\n",
            "103\n",
            "393\n",
            "1\n",
            "20\n",
            "10\n",
            "--------------------\n",
            "103\n",
            "--------------------\n",
            "393\n",
            "1\n",
            "20\n",
            "10\n",
            "--------------------\n",
            "--------------------\n",
            "233\n",
            "444\n",
            "393\n",
            "1\n",
            "20\n",
            "10\n",
            "--------------------\n",
            "Elemento en el tope es 233\n",
            "La pila tiene 6 elementos\n",
            "¿La pila esta vacia?: False\n"
          ],
          "name": "stdout"
        }
      ]
    },
    {
      "cell_type": "markdown",
      "metadata": {
        "id": "USlmyzFhI3EZ"
      },
      "source": [
        "#Ejemplo de aplicación de pilas\n",
        "x=4 + 5 + 6 + 3\n",
        "\n",
        "x=4 + (5 + 6) + 3\n",
        "\n",
        "x=4 + (5 + 6) + 3\n",
        "\n",
        "if(a==b) {System.out.println(b)\n",
        "\n",
        "if(a==b) {System.out.println(b}\n",
        "\n",
        "#reglas \n",
        "### '('  ----> push ('@')\n",
        "### ')'  ----> pop()\n",
        "\n",
        "Si al final del recorrido la pila esta vacia, entonces la vacia es correcta.\n",
        "Si en un pop desencadena en querer sacar un elemento de la pila vacia significa que la pila no esta balaneceada. \n"
      ]
    }
  ]
}
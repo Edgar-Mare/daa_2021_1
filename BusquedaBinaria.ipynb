{
  "nbformat": 4,
  "nbformat_minor": 0,
  "metadata": {
    "colab": {
      "name": "Untitled11.ipynb",
      "provenance": [],
      "authorship_tag": "ABX9TyNzHQhgqIa5G6IC8vWNLjdX",
      "include_colab_link": true
    },
    "kernelspec": {
      "name": "python3",
      "display_name": "Python 3"
    }
  },
  "cells": [
    {
      "cell_type": "markdown",
      "metadata": {
        "id": "view-in-github",
        "colab_type": "text"
      },
      "source": [
        "<a href=\"https://colab.research.google.com/github/pandemicbat801/daa_2021_1/blob/master/BusquedaBinaria.ipynb\" target=\"_parent\"><img src=\"https://colab.research.google.com/assets/colab-badge.svg\" alt=\"Open In Colab\"/></a>"
      ]
    },
    {
      "cell_type": "code",
      "metadata": {
        "id": "aeUPB42csg5e"
      },
      "source": [
        "\n",
        "alumno1={'id':2, 'nombre':\"Juan\" , 'carrera':\"ICO\", 'promedio':7.67}\n",
        "alumno2={'id':4, 'nombre':\"Rocio\" , 'carrera':\"ICI\", 'promedio':8.67}\n",
        "alumno3={'id':5, 'nombre':\"Diego\" , 'carrera':\"DER\", 'promedio':8.98}\n",
        "alumno4={'id':7, 'nombre':\"May\" , 'carrera':\"ICI\", 'promedio':9.87}\n",
        "alumno5={'id':9, 'nombre':\"Rob\" , 'carrera':\"IME\", 'promedio':10.00}\n",
        "alumno6={'id':10, 'nombre':\"Santi\" , 'carrera':\"ICO\", 'promedio':5.37}\n",
        "alumno7={'id':14, 'nombre':\"Moy\" , 'carrera':\"IME\", 'promedio':6.85}\n",
        "alumno8={'id':16, 'nombre':\"Diana\" , 'carrera':\"DER\", 'promedio':9.99}\n",
        "alumno9={'id':19, 'nombre':\"Zoila\" , 'carrera':\"ICO\", 'promedio':8.22}\n",
        "alumno10={'id':22, 'nombre':\"Armando\" , 'carrera':\"ICO\", 'promedio':7.32}\n",
        "\n",
        "bd = []\n",
        "bd.append(alumno1)\n",
        "bd.append(alumno2)\n",
        "bd.append(alumno3)\n",
        "bd.append(alumno4)\n",
        "bd.append(alumno5)\n",
        "bd.append(alumno6)\n",
        "bd.append(alumno7)\n",
        "bd.append(alumno8)\n",
        "bd.append(alumno9)\n",
        "bd.append(alumno10)\n",
        "\n",
        "n=len(bd)\n",
        "def busquedaBinaria(bd,idAlumno,izq=0,der=n):\n",
        "  med=(izq+der)//2\n",
        "  if izq>=der:\n",
        "    print(\"El alumno no existe en la base de datos.\")\n",
        "  elif bd[med][\"id\"]==idAlumno:\n",
        "    print(bd[med][\"nombre\"], \"estudia la carrera\",bd[med][\"carrera\"],\"y tiene un promedio de\",bd[med][\"promedio\"])\n",
        "  elif idAlumno<bd[med][\"id\"]:\n",
        "    busquedaBinaria(bd,idAlumno,izq,med)\n",
        "  elif idAlumno>bd[med][\"id\"]:\n",
        "    busquedaBinaria(bd,idAlumno,med+1,der)\n",
        "\n",
        "id=0    \n",
        "while id!=-1:\n",
        "  print(\"introduce (-1) para salir\")\n",
        "  id=int(input(\"dame el id del alumno a buscar: \"))\n",
        "  if id!=-1:\n",
        "    busquedaBinaria(bd,id)"
      ],
      "execution_count": null,
      "outputs": []
    }
  ]
}
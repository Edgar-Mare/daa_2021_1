{
  "nbformat": 4,
  "nbformat_minor": 0,
  "metadata": {
    "colab": {
      "name": "20enero.ipynb",
      "provenance": [],
      "authorship_tag": "ABX9TyOYN+xTCkd0phT1OnMJAR01",
      "include_colab_link": true
    },
    "kernelspec": {
      "name": "python3",
      "display_name": "Python 3"
    }
  },
  "cells": [
    {
      "cell_type": "markdown",
      "metadata": {
        "id": "view-in-github",
        "colab_type": "text"
      },
      "source": [
        "<a href=\"https://colab.research.google.com/github/pandemicbat801/daa_2021_1/blob/master/20enero.ipynb\" target=\"_parent\"><img src=\"https://colab.research.google.com/assets/colab-badge.svg\" alt=\"Open In Colab\"/></a>"
      ]
    },
    {
      "cell_type": "code",
      "metadata": {
        "id": "i02fnfCPiQUN"
      },
      "source": [
        "class NodoArbol:\r\n",
        "  def __init__(self, value, left=None, right=None):\r\n",
        "    self.data=value\r\n",
        "    self.left=left\r\n",
        "    self.right=right\r\n",
        "\r\n"
      ],
      "execution_count": 11,
      "outputs": []
    },
    {
      "cell_type": "markdown",
      "metadata": {
        "id": "3dvYM5tniRU7"
      },
      "source": [
        "#Arbol Binario de búsqueda\r\n",
        "Los nodos a la izq son menores a la raiz y los nodods a la derecha son mayores a la raiz.\r\n",
        "Pueden ser recorridos en: pre-orden, in-orden y postt-orden."
      ]
    },
    {
      "cell_type": "code",
      "metadata": {
        "id": "FwxOiM1JiTgI"
      },
      "source": [
        "class BinarySearchTree:\r\n",
        "  def __init__(self):\r\n",
        "    self._root=None\r\n",
        "\r\n",
        "  def insert(self, value):\r\n",
        "    if self._root==None:\r\n",
        "      self._root=NodoArbol(value)\r\n",
        "      print(\"hola\")\r\n",
        "    else:\r\n",
        "      self.__insert_nodo__(self._root, value)\r\n",
        "  \r\n",
        "\r\n",
        "  def __insert_nodo__(self, nodo, value):\r\n",
        "    if nodo.data==value:\r\n",
        "      pass\r\n",
        "    elif value<nodo.data: # true va a la IZQ \r\n",
        "      if nodo.left==None:# si hay espacio en la izq, ahi va\r\n",
        "        nodo.left=NodoArbol(value)# insertamos en sub\r\n",
        "      else:\r\n",
        "        self.__insert_nodo__(nodo.left,value) # buscar en sub\r\n",
        "    else: # ir a la derecha \r\n",
        "      if nodo.right==None:\r\n",
        "        nodo.left=NodoArbol(value)\r\n",
        "      else:\r\n",
        "        self.__insert_nodo__(nodo.right,value) #buscar en sub\r\n",
        "\r\n",
        "  def buscar(self, value):\r\n",
        "    if self._root==None:\r\n",
        "      return None\r\n",
        "    else:\r\n",
        "      # haremos busqueda recursiva\r\n",
        "      return self.__busca_nodo(self._root,value)\r\n",
        "\r\n",
        "  def __busca_nodo(self, nodo, value):\r\n",
        "    if nodo==None:\r\n",
        "      return None\r\n",
        "    elif nodo.data==value:\r\n",
        "      return nodo\r\n",
        "    elif value<nodo.data:\r\n",
        "      return self.__busca_nodo(nodo.left,value)\r\n",
        "    else:\r\n",
        "      return self.__busca_nodo(nodo.right,value)\r\n",
        "\r\n",
        "  def transversal(self, format=\"inorden\"):\r\n",
        "    if format==\"inorden\":\r\n",
        "      self.__recorrido_in(self._root)\r\n",
        "    elif format==\"preorden\":\r\n",
        "      self.__recorrido_pre(self._root)\r\n",
        "    elif format==\"posorden\":\r\n",
        "      self.__recorrido_pos(self._root)\r\n",
        "    else:\r\n",
        "      print(\"Formato de recorrido no valido\") \r\n",
        "\r\n",
        "  def __recorrido_pre(self, nodo):\r\n",
        "    if nodo!=None:\r\n",
        "      print(nodo.data,end=\",\")\r\n",
        "      self.__recorrido_pre(nodo.left)\r\n",
        "      self.__recorrido_pre(nodo.right)\r\n",
        "  \r\n",
        "  def __recorrido_in(self, nodo):\r\n",
        "    if nodo!=None:\r\n",
        "      self.__recorrido_in(nodo.left)\r\n",
        "      print(nodo.data,end=\",\")\r\n",
        "      self.__recorrido_in(nodo.right)\r\n",
        "  \r\n",
        "  def __recorrido_pos(self, nodo):\r\n",
        "    if nodo!=None:\r\n",
        "      self.__recorrido_pos(nodo.left)\r\n",
        "      self.__recorrido_pos(nodo.right)\r\n",
        "      print(nodo.data,end=\",\")\r\n",
        "\r\n"
      ],
      "execution_count": 12,
      "outputs": []
    },
    {
      "cell_type": "code",
      "metadata": {
        "id": "PPaIv5zjiV9O",
        "outputId": "3d1f52f0-1ee8-41ec-9291-838070bae45d",
        "colab": {
          "base_uri": "https://localhost:8080/"
        }
      },
      "source": [
        "bst=BinarySearchTree()\r\n",
        "bst.insert(50)\r\n",
        "bst.insert(30)\r\n",
        "bst.insert(20)\r\n",
        "resultado=bst.buscar(30) #true o false ?\r\n",
        "print(\"dato : {}\".format(resultado.data))\r\n",
        "print(bst.buscar(40))\r\n",
        "print(\"recorrido preorden:\",end=\",\")\r\n",
        "bst.transversal(format=\"preorden\")\r\n",
        "print()\r\n",
        "print(\"recorrido inorden:\",end=\",\")\r\n",
        "bst.transversal()\r\n",
        "print()\r\n",
        "print(\"recorrido posorden:\",end=\",\")\r\n",
        "bst.transversal(format=\"posorden\")\r\n",
        "\r\n"
      ],
      "execution_count": 13,
      "outputs": [
        {
          "output_type": "stream",
          "text": [
            "hola\n",
            "dato : 30\n",
            "None\n",
            "recorrido preorden:,50,30,20,\n",
            "recorrido inorden:,20,30,50,\n",
            "recorrido posorden:,20,30,50,"
          ],
          "name": "stdout"
        }
      ]
    }
  ]
}
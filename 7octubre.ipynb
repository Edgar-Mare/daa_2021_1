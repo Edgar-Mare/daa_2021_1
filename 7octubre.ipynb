{
  "nbformat": 4,
  "nbformat_minor": 0,
  "metadata": {
    "colab": {
      "name": "Untitled2.ipynb",
      "provenance": [],
      "authorship_tag": "ABX9TyPSPOHDpuD4hzWLw5KCMkoo",
      "include_colab_link": true
    },
    "kernelspec": {
      "name": "python3",
      "display_name": "Python 3"
    }
  },
  "cells": [
    {
      "cell_type": "markdown",
      "metadata": {
        "id": "view-in-github",
        "colab_type": "text"
      },
      "source": [
        "<a href=\"https://colab.research.google.com/github/pandemicbat801/daa_2021_1/blob/master/7octubre.ipynb\" target=\"_parent\"><img src=\"https://colab.research.google.com/assets/colab-badge.svg\" alt=\"Open In Colab\"/></a>"
      ]
    },
    {
      "cell_type": "markdown",
      "metadata": {
        "id": "U1HVBUkQTSj8"
      },
      "source": [
        "#Búsqueda líneal \n",
        "Dado un conjunto de datos no ordenados, la busqueda lineal consioste en recorrer el conjunto de datos desde el inicio al fibnal, moviendose de uno en uno hasta encontrar el elemento o llegar al final del conjunto.\n",
        "\n",
        "datos = [ 4,18,47,2,34,14,78,12,48,21,31,19,1,3,5]\n",
        "\n",
        "#Búsqueda binaria\n",
        "Funciona sobre un conjunto de datos lineal ordenado, consiste en dividir el conjunto en mitades y buscar en esa mitad. Si el elemento buscado no esta en la mitad, preguntas si ele elemento esta a la derecha o a la izquierda, haces la lista a la mitad correspondiente y repites el proceso.\n",
        "\n",
        "datos=[1, 2, 3, 4, 5, 12, 14, 18, 19, 21, 31, 34, 47, 48, 78]\n",
        "Der=len(L)-1\n",
        "Izq=0\n",
        "\n",
        "Mid= Apuntara a ala mitad del segmento busqueda.\n",
        "\n",
        "buscado:valor buscado\n",
        "1. Hacer derecha=len(L)-1\n",
        "1. Hacer izq=0\n",
        "1. Si izq > der significa que hay un error en los datos\n",
        "1. Calcular mid que va a ser igual a la parte int( (izq + der) //2 )\n",
        "1. Repetir mientras L[mid] != buscado hacer\n",
        "1.        - preguntyar si L[mid]>buscado\n",
        "              - hacer Der=mid\n",
        "          - de lo contrario \n",
        "              - hacer Izq=mid\n",
        "          - preguntar(Der-Izq)=%2\n",
        "              - mid=((Izq+Der)/2)+1\n",
        "          - de lo contrario \n",
        "              - mid=izq"
      ]
    },
    {
      "cell_type": "code",
      "metadata": {
        "id": "eiw9CmL5SHtv",
        "outputId": "4caeb0db-bd75-4641-d86c-2567f0bbbbe9",
        "colab": {
          "base_uri": "https://localhost:8080/"
        }
      },
      "source": [
        "\"\"\"\n",
        "Busqueda lineal regresa la posicion el elemento buscado si se encuentra dentro de la lista, regresa -1 si no se encuentra en la lista.\n",
        "\"\"\"\n",
        "Busqueda binaria\n",
        "\n",
        "def busqeda_binaria(L, buscando):\n",
        "    IZQ = o\n",
        "    DER = len (L) -1\n",
        "    MID = int (IZQ + DER)/2)\n",
        "    if len (L) % 2==0:\n",
        "        MID = (DER//2)+1\n",
        "    else:\n",
        "        MID = DER//2\n",
        "        \n",
        "    while (L[MID]!= buscando):\n",
        "\n",
        "        if L[MID] > buscando:\n",
        "            DER = MID\n",
        "        else:\n",
        "            IZQ = MID\n",
        "        if (DER - IZQ) % 2 ==0:\n",
        "            MID = (IZQ+((DER-IZQ)//2))+1\n",
        "        else:\n",
        "            MID = IZQ + ((DER-IZQ)//2)\n",
        "    return MID\n",
        "\n",
        "\n",
        "def busqueda_lineal(L,num):\n",
        "  indie=-1\n",
        "  cont=0\n",
        "  for idx in range(len(L)):\n",
        "    cont+=1\n",
        "    if L[idx]==num:\n",
        "      indice=idx\n",
        "      break\n",
        "  print(f'Numero de operaciones realizadas: {cont}')\n",
        "  return indice\n",
        "\n",
        "if __name__ == \"__main__\":\n",
        "  datos = [ 4,18,47,2,34,14,78,12,48,21,31,19,1,3,5]\n",
        "  dato=int(input('¿Qué numero quiewres encontrar?'))\n",
        "  resultado=busqueda_lineal(datos,dato)\n",
        "  print(f'El resultado esta en la posición {resultado}')\n",
        "\n",
        "\n",
        "  print('Busqueda lineal en lista ordenada')\n",
        "  datos.sort()\n",
        "  print(datos)\n",
        "  resultado=busqueda_lineal(datos,dato)\n",
        "  print(f'El resultado esta en la posición {resultado}')\n"
      ],
      "execution_count": 4,
      "outputs": [
        {
          "output_type": "stream",
          "text": [
            "¿Qué numero quiewres encontrar?3\n",
            "Numero de operaciones realizadas: 14\n",
            "El resultado esta en la posición 13\n",
            "Busqueda lineal en lista ordenada\n",
            "[1, 2, 3, 4, 5, 12, 14, 18, 19, 21, 31, 34, 47, 48, 78]\n",
            "Numero de operaciones realizadas: 3\n",
            "El resultado esta en la posición 2\n"
          ],
          "name": "stdout"
        }
      ]
    }
  ]
}
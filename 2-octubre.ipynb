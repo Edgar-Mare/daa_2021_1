{
  "nbformat": 4,
  "nbformat_minor": 0,
  "metadata": {
    "colab": {
      "name": "Untitled3.ipynb",
      "provenance": [],
      "authorship_tag": "ABX9TyN3SxzH89Y1cQQffnxuBZhv",
      "include_colab_link": true
    },
    "kernelspec": {
      "name": "python3",
      "display_name": "Python 3"
    }
  },
  "cells": [
    {
      "cell_type": "markdown",
      "metadata": {
        "id": "view-in-github",
        "colab_type": "text"
      },
      "source": [
        "<a href=\"https://colab.research.google.com/github/pandemicbat801/daa_2021_1/blob/master/2-octubre.ipynb\" target=\"_parent\"><img src=\"https://colab.research.google.com/assets/colab-badge.svg\" alt=\"Open In Colab\"/></a>"
      ]
    },
    {
      "cell_type": "markdown",
      "metadata": {
        "id": "4T-tKn3noDBp"
      },
      "source": [
        "## Meteorología en México\n",
        "En Sistema meteorológico nacional lleva el registro de la lluvias desde el año 1985 y lo pone a disposición de la población por medio de la pagina datos.gob.mx.\n",
        "\n",
        "En la siguiente liga se encuentran 2  archivos separados por comas CSV correspondientes a los registros de lluvias\n",
        "mensuales y anuales de los años 2017 y 2018. En los columnas se encuentran 13,  correspondientes al promedio mensual y el promedio anual.\n",
        "En los renglones se encuentran 33, correspondientes a cada uno de los 32 estados y a nivel nacional.\n",
        "\n",
        "https://drive.google.com/file/d/1lamkxgq2AsXRu81Y4JTNXLVld4og7nxt/view?usp=sharing\n",
        "\n",
        "\n",
        "## Planteamiento del problema\n",
        "Diseñar un algoritmo y programarlo para que:\n",
        "1. Solicite por teclado el año, el estado y el mes, en base a esa información:\n",
        "- muestre en pantalla el promedio de ese mes en ese estado en el año seleccionado.\n",
        "- muestre en pantalla el promedio anual del  estado seleccionado.\n",
        "- muestre la suma de los 12 meses de ese estado en el año seleccionado.\n",
        "\n",
        "2. Busque el mes que mas llovió en todos los estados durante esos dos años. Imprimir año, estado y mes.\n",
        "3. Busque el mes que menos llovió en los dos. Imprimir año, estado y mes.\n",
        "\n"
      ]
    },
    {
      "cell_type": "code",
      "metadata": {
        "id": "-5EhgMnMoCmi",
        "outputId": "ae3a24ea-2522-4709-c2b4-283f19379eb3",
        "colab": {
          "base_uri": "https://localhost:8080/",
          "height": 595
        }
      },
      "source": [
        "with open('2017Precip2.csv','r') as archivo:\n",
        "  lineas=archivo.read().splitlines()\n",
        "  lineas.pop(0)\n",
        "  for i in lineas:\n",
        "   lineas=i.split(',')\n",
        "   print (lineas[5])\n"
      ],
      "execution_count": 57,
      "outputs": [
        {
          "output_type": "stream",
          "text": [
            "MAY\n",
            "4.2 \n",
            "7.9 \n",
            "1.6 \n",
            "49.7 \n",
            "40.6 \n",
            "1.7 \n",
            "262.3 \n",
            "10.4 \n",
            "48.9 \n",
            "4.7 \n",
            "17.2 \n",
            "90.2 \n",
            "51.2 \n",
            "6.8 \n",
            "86.6 \n",
            "29.5 \n",
            "174.9 \n",
            "1.1 \n",
            "60.7 \n",
            "156.8 \n",
            "130.5 \n",
            "29.6 \n",
            "64.1 \n",
            "40.9 \n",
            "0.7 \n",
            "4.8 \n",
            "143.2 \n",
            "70.8 \n",
            "79.9 \n",
            "110.0 \n",
            "48.4 \n",
            "10.7 \n",
            "48.1 \n"
          ],
          "name": "stdout"
        }
      ]
    }
  ]
}
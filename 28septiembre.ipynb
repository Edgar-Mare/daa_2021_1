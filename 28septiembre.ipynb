{
  "nbformat": 4,
  "nbformat_minor": 0,
  "metadata": {
    "colab": {
      "name": "28septiembre.ipynb",
      "provenance": [],
      "authorship_tag": "ABX9TyOcRkdX1mR4Mz3rnLEHB7qa",
      "include_colab_link": true
    },
    "kernelspec": {
      "name": "python3",
      "display_name": "Python 3"
    }
  },
  "cells": [
    {
      "cell_type": "markdown",
      "metadata": {
        "id": "view-in-github",
        "colab_type": "text"
      },
      "source": [
        "<a href=\"https://colab.research.google.com/github/pandemicbat801/daa_2021_1/blob/master/28septiembre.ipynb\" target=\"_parent\"><img src=\"https://colab.research.google.com/assets/colab-badge.svg\" alt=\"Open In Colab\"/></a>"
      ]
    },
    {
      "cell_type": "markdown",
      "metadata": {
        "id": "wEbqiguYDcPd"
      },
      "source": [
        "#sección 1"
      ]
    },
    {
      "cell_type": "markdown",
      "metadata": {
        "id": "y8PUDVAaDjAg"
      },
      "source": [
        "En este archivo aprenderemos a programar en Python con la herramienta de Google Colab Research.\n",
        "\n",
        "También aprenderemos a guardar nuestros cambios a nuestro repositorio de github.com"
      ]
    },
    {
      "cell_type": "markdown",
      "metadata": {
        "id": "z2YkbWv0D3bP"
      },
      "source": [
        "## Codigo de ejemplo\n",
        "**negritas**\n",
        "_italica_\n",
        "\n",
        "`valor = 10 print(valor)`"
      ]
    },
    {
      "cell_type": "code",
      "metadata": {
        "id": "pd5OA5RuGdCL",
        "outputId": "6d309603-375e-4c98-f0de-970190d234bc",
        "colab": {
          "base_uri": "https://localhost:8080/",
          "height": 34
        }
      },
      "source": [
        "frutas =[]\n",
        "frutas.append('piña')\n",
        "frutas.append('manzana')\n",
        "frutas.append('kiwi')\n",
        "print(frutas)\n"
      ],
      "execution_count": 2,
      "outputs": [
        {
          "output_type": "stream",
          "text": [
            "['piña', 'manzana', 'kiwi']\n"
          ],
          "name": "stdout"
        }
      ]
    },
    {
      "cell_type": "code",
      "metadata": {
        "id": "c7171eJxICTu"
      },
      "source": [
        "archivo=open('archivo_prueba.txt','wt')\n",
        "archivo.write('Hola mundo Jupyter')\n",
        "archivo.close()"
      ],
      "execution_count": 4,
      "outputs": []
    }
  ]
}
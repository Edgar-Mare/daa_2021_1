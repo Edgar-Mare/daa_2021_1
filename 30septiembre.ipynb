{
  "nbformat": 4,
  "nbformat_minor": 0,
  "metadata": {
    "colab": {
      "name": "Untitled0.ipynb",
      "provenance": [],
      "authorship_tag": "ABX9TyPJ47nT6+ERbj7t78QCu9hs",
      "include_colab_link": true
    },
    "kernelspec": {
      "name": "python3",
      "display_name": "Python 3"
    }
  },
  "cells": [
    {
      "cell_type": "markdown",
      "metadata": {
        "id": "view-in-github",
        "colab_type": "text"
      },
      "source": [
        "<a href=\"https://colab.research.google.com/github/pandemicbat801/daa_2021_1/blob/master/30septiembre.ipynb\" target=\"_parent\"><img src=\"https://colab.research.google.com/assets/colab-badge.svg\" alt=\"Open In Colab\"/></a>"
      ]
    },
    {
      "cell_type": "markdown",
      "metadata": {
        "id": "1aBCKL-TQItH"
      },
      "source": [
        "#Palindromos\n",
        "Es una palabra que se lee de igual formade un sentido y de sentido inverso, ejemplo:\n",
        "1. sugus\n",
        "2. reconocer\n",
        "3. oso\n",
        "4. 10101\n",
        "5. 10:01\n",
        "etc.\n",
        "\n",
        "###Planteamiento del problema\n",
        "Se deseada encontrar todos los palindromos quese encuentran en un dia completo tomando  como horario inicial las 00:00 horas y como horario final las 23:59 horas. \n",
        "\n",
        "El algortimodebe mostrar en pantalla todos los algoritmos exixtentes en ese rango, al final debe mostrar el conteo de todos los palindromos existentes.\n"
      ]
    },
    {
      "cell_type": "code",
      "metadata": {
        "id": "TGU8Gbj2P8Dm",
        "outputId": "7f0c85ff-5029-40c1-9912-59bdb846fe25",
        "colab": {
          "base_uri": "https://localhost:8080/",
          "height": 306
        }
      },
      "source": [
        "horas=\"0000\"\n",
        "cont=0\n",
        "while horas!=\"2359\":\n",
        "\n",
        "  inv=horas[::-1]\n",
        "  if horas==inv and int(horas[2])<=5:\n",
        "    cont+=1\n",
        "    print(horas[0:2],\":\",horas[2:4])\n",
        "  new=int(horas)\n",
        "  new+=1\n",
        "  horas=str(new).zfill(4)\n",
        "print(\"son \",cont,\"palindromos\")"
      ],
      "execution_count": 30,
      "outputs": [
        {
          "output_type": "stream",
          "text": [
            "00 : 00\n",
            "01 : 10\n",
            "02 : 20\n",
            "03 : 30\n",
            "04 : 40\n",
            "05 : 50\n",
            "10 : 01\n",
            "11 : 11\n",
            "12 : 21\n",
            "13 : 31\n",
            "14 : 41\n",
            "15 : 51\n",
            "20 : 02\n",
            "21 : 12\n",
            "22 : 22\n",
            "23 : 32\n",
            "son  16 palindromos\n"
          ],
          "name": "stdout"
        }
      ]
    }
  ]
}
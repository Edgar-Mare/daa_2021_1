{
  "nbformat": 4,
  "nbformat_minor": 0,
  "metadata": {
    "colab": {
      "name": "Untitled5.ipynb",
      "provenance": [],
      "authorship_tag": "ABX9TyNcEOlyhnJWYJd3vUZpVXwx",
      "include_colab_link": true
    },
    "kernelspec": {
      "name": "python3",
      "display_name": "Python 3"
    }
  },
  "cells": [
    {
      "cell_type": "markdown",
      "metadata": {
        "id": "view-in-github",
        "colab_type": "text"
      },
      "source": [
        "<a href=\"https://colab.research.google.com/github/pandemicbat801/daa_2021_1/blob/master/Tarea_6_Fuerza_Bruta.ipynb\" target=\"_parent\"><img src=\"https://colab.research.google.com/assets/colab-badge.svg\" alt=\"Open In Colab\"/></a>"
      ]
    },
    {
      "cell_type": "code",
      "metadata": {
        "colab": {
          "base_uri": "https://localhost:8080/"
        },
        "id": "yugF2qKJQCaX",
        "outputId": "42dc7769-3f81-4785-e21a-f0ee1781b5c2"
      },
      "source": [
        "import re\n",
        "palabra=\"El lema que anima a la Universidad Nacional, Por mi raza hablará el espíritu, revela la vocación humanística con la que fue concebida. El autor de esta célebre frase, José Vasconcelos, asumió la rectoría en 1920, en una época en que las esperanzas de la Revolución aún estaban vivas,había una gran fé en la Patria y el ánimo redentor se extendía en el ambiente.\"\n",
        "\n",
        "def normalizador(frase):\n",
        "  frase=frase.lower()\n",
        "  frase = frase.replace('á', 'a')\n",
        "  frase = frase.replace('é', 'e')\n",
        "  frase = frase.replace('í', 'i')\n",
        "  frase = frase.replace('ó', 'o')\n",
        "  frase = frase.replace('ú', 'u')\n",
        "  frase = frase.replace(',', '')\n",
        "  frase = frase.replace('.', '')\n",
        "  return frase\n",
        "\n",
        "def contador(frase):\n",
        "  frecuencia = {}\n",
        "  patron= re.findall(r'[a-z]{1,15}', frase)\n",
        " \n",
        "  for palabra in patron:\n",
        "    contador= frecuencia.get(palabra,0)\n",
        "    frecuencia[palabra] = contador + 1\n",
        "\n",
        "  lisa_frecuencia = frecuencia.keys()\n",
        " \n",
        "  for palabra in lisa_frecuencia:\n",
        "    print(f'{palabra} = {frecuencia[palabra]}')\n",
        "\n",
        "\n",
        "if __name__ == \"__main__\":\n",
        "  contador(normalizador(palabra))\n"
      ],
      "execution_count": 53,
      "outputs": [
        {
          "output_type": "stream",
          "text": [
            "el = 5\n",
            "lema = 1\n",
            "que = 3\n",
            "anima = 1\n",
            "a = 1\n",
            "la = 6\n",
            "universidad = 1\n",
            "nacional = 1\n",
            "por = 1\n",
            "mi = 1\n",
            "raza = 1\n",
            "hablara = 1\n",
            "espiritu = 1\n",
            "revela = 1\n",
            "vocacion = 1\n",
            "humanistica = 1\n",
            "con = 1\n",
            "fue = 1\n",
            "concebida = 1\n",
            "autor = 1\n",
            "de = 2\n",
            "esta = 1\n",
            "celebre = 1\n",
            "frase = 1\n",
            "jose = 1\n",
            "vasconcelos = 1\n",
            "asumio = 1\n",
            "rectoria = 1\n",
            "en = 5\n",
            "una = 2\n",
            "epoca = 1\n",
            "las = 1\n",
            "esperanzas = 1\n",
            "revolucion = 1\n",
            "aun = 1\n",
            "estaban = 1\n",
            "vivashabia = 1\n",
            "gran = 1\n",
            "fe = 1\n",
            "patria = 1\n",
            "y = 1\n",
            "animo = 1\n",
            "redentor = 1\n",
            "se = 1\n",
            "extendia = 1\n",
            "ambiente = 1\n"
          ],
          "name": "stdout"
        }
      ]
    }
  ]
}
{
  "nbformat": 4,
  "nbformat_minor": 0,
  "metadata": {
    "colab": {
      "name": "Untitled15.ipynb",
      "provenance": [],
      "authorship_tag": "ABX9TyOjoxW/oZhfF1eKPUmFfcFK",
      "include_colab_link": true
    },
    "kernelspec": {
      "name": "python3",
      "display_name": "Python 3"
    }
  },
  "cells": [
    {
      "cell_type": "markdown",
      "metadata": {
        "id": "view-in-github",
        "colab_type": "text"
      },
      "source": [
        "<a href=\"https://colab.research.google.com/github/pandemicbat801/daa_2021_1/blob/master/Tarea10.ipynb\" target=\"_parent\"><img src=\"https://colab.research.google.com/assets/colab-badge.svg\" alt=\"Open In Colab\"/></a>"
      ]
    },
    {
      "cell_type": "code",
      "metadata": {
        "id": "pyuoGvrO9467"
      },
      "source": [
        "class NodoArbol:\r\n",
        "  def __init__(self, value, left=None,right=None):\r\n",
        "    self.data=value\r\n",
        "    self.left=left\r\n",
        "    self.right=right"
      ],
      "execution_count": 1,
      "outputs": []
    },
    {
      "cell_type": "code",
      "metadata": {
        "id": "wHlfOK17AkLu"
      },
      "source": [
        "class BinarySearchTree:\r\n",
        " \r\n",
        "\r\n",
        "  def encontrar(self, arbolitobb, nivel, nivel_max, res):\r\n",
        "\r\n",
        "        if arbolitobb !=None:\r\n",
        "            nivel+=1\r\n",
        "            self.encontrar(arbolitobb.left, nivel, nivel_max, res)\r\n",
        "\r\n",
        "            if nivel > nivel_max[0]:\r\n",
        "\r\n",
        "                res[0] = arbolitobb.data\r\n",
        "                nivel_max[0] = nivel\r\n",
        "\r\n",
        "            self.encontrar(arbolitobb.right, nivel, nivel_max, res)\r\n",
        "\r\n",
        "  def nodoProfundo(self,arbolitobb):\r\n",
        "\r\n",
        "       res = [-1]\r\n",
        "       nivel_max = [-1]\r\n",
        "\r\n",
        "       self.encontrar(arbolitobb, 0, nivel_max, res)\r\n",
        "       return res[0]\r\n",
        "  \r\n"
      ],
      "execution_count": 3,
      "outputs": []
    },
    {
      "cell_type": "code",
      "metadata": {
        "colab": {
          "base_uri": "https://localhost:8080/"
        },
        "id": "SCQ3RfLYAmEf",
        "outputId": "9143411d-d653-4a62-c7bd-dbfb4cf4e479"
      },
      "source": [
        "arbol=NodoArbol(1)\r\n",
        "arbol.left=NodoArbol(2)\r\n",
        "arbol.left.right=NodoArbol(3)\r\n",
        "arbol.left.right.left=NodoArbol(4)\r\n",
        "arbol.right=NodoArbol(5)\r\n",
        "\r\n",
        "\r\n",
        "n=BinarySearchTree()\r\n",
        "\r\n",
        "print('El nodo mas profundo es', n.nodoProfundo(arbol))"
      ],
      "execution_count": 4,
      "outputs": [
        {
          "output_type": "stream",
          "text": [
            "El nodo mas profundo es 4\n"
          ],
          "name": "stdout"
        }
      ]
    }
  ]
}
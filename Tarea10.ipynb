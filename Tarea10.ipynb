{
  "nbformat": 4,
  "nbformat_minor": 0,
  "metadata": {
    "colab": {
      "name": "Tarea10.ipynb",
      "provenance": [],
      "authorship_tag": "ABX9TyM9VmWBaB4KNPS3gWQZGClO",
      "include_colab_link": true
    },
    "kernelspec": {
      "name": "python3",
      "display_name": "Python 3"
    }
  },
  "cells": [
    {
      "cell_type": "markdown",
      "metadata": {
        "id": "view-in-github",
        "colab_type": "text"
      },
      "source": [
        "<a href=\"https://colab.research.google.com/github/pandemicbat801/daa_2021_1/blob/master/Tarea10.ipynb\" target=\"_parent\"><img src=\"https://colab.research.google.com/assets/colab-badge.svg\" alt=\"Open In Colab\"/></a>"
      ]
    },
    {
      "cell_type": "code",
      "metadata": {
        "id": "pyuoGvrO9467"
      },
      "source": [
        "class NodoArbol:\r\n",
        "  def __init__(self, value, left=None,right=None):\r\n",
        "    self.data=value\r\n",
        "    self.left=left\r\n",
        "    self.right=right"
      ],
      "execution_count": 9,
      "outputs": []
    },
    {
      "cell_type": "code",
      "metadata": {
        "id": "wHlfOK17AkLu"
      },
      "source": [
        "class BinarySearchTree:\r\n",
        " \r\n",
        "\r\n",
        "  def encontrar(self, arbolitobb, nivel, nivel_max, res):\r\n",
        "\r\n",
        "        if arbolitobb !=None:\r\n",
        "            nivel+=1\r\n",
        "            self.encontrar(arbolitobb.left, nivel, nivel_max, res)\r\n",
        "\r\n",
        "            if nivel > nivel_max[0]:\r\n",
        "\r\n",
        "                res[0] = arbolitobb.data\r\n",
        "                nivel_max[0] = nivel\r\n",
        "\r\n",
        "            self.encontrar(arbolitobb.right, nivel, nivel_max, res)\r\n",
        "\r\n",
        "  def nodoProfundo(self,arbolitobb):\r\n",
        "\r\n",
        "       res = [-1]\r\n",
        "       nivel_max = [-1]\r\n",
        "\r\n",
        "       self.encontrar(arbolitobb, 0, nivel_max, res)\r\n",
        "       return res[0]\r\n",
        "  \r\n"
      ],
      "execution_count": 10,
      "outputs": []
    },
    {
      "cell_type": "code",
      "metadata": {
        "colab": {
          "base_uri": "https://localhost:8080/"
        },
        "id": "SCQ3RfLYAmEf",
        "outputId": "b6b2e3aa-5c42-41c9-cf03-fb339fc4d80d"
      },
      "source": [
        "arbol=NodoArbol(1)\r\n",
        "arbol.left=NodoArbol(2)\r\n",
        "arbol.left.right=NodoArbol(3)\r\n",
        "arbol.left.right.left=NodoArbol(4)\r\n",
        "arbol.right=NodoArbol(5)\r\n",
        "\r\n",
        "\r\n",
        "temp=BinarySearchTree()\r\n",
        "\r\n",
        "print('El nodo mas profundo es', temp.nodoProfundo(arbol))"
      ],
      "execution_count": 8,
      "outputs": [
        {
          "output_type": "stream",
          "text": [
            "El nodo mas profundo es 4\n"
          ],
          "name": "stdout"
        }
      ]
    },
    {
      "cell_type": "code",
      "metadata": {
        "colab": {
          "base_uri": "https://localhost:8080/"
        },
        "id": "CzVahcmqBE7E",
        "outputId": "6148bfdf-bc24-47f8-a052-08cc0bbb07c3"
      },
      "source": [
        "arbol2=NodoArbol(1)\r\n",
        "arbol2.left=NodoArbol(2)\r\n",
        "arbol2.left.right=NodoArbol(3)\r\n",
        "arbol2.left.right.left=NodoArbol(4)\r\n",
        "arbol2.right=NodoArbol(5)\r\n",
        "arbol2.right.left=NodoArbol(6)\r\n",
        "arbol2.right.left.right=NodoArbol(8)\r\n",
        "arbol2.right.left.right.left=NodoArbol(18)\r\n",
        "\r\n",
        "print('El nodo mas profundo es', temp.nodoProfundo(arbol2))"
      ],
      "execution_count": 12,
      "outputs": [
        {
          "output_type": "stream",
          "text": [
            "El nodo mas profundo es 18\n"
          ],
          "name": "stdout"
        }
      ]
    },
    {
      "cell_type": "code",
      "metadata": {
        "colab": {
          "base_uri": "https://localhost:8080/"
        },
        "id": "F95S22aLCHa8",
        "outputId": "a5cd8f22-6fab-42a0-c113-ef244b93adb5"
      },
      "source": [
        "arbol3=NodoArbol(1)\r\n",
        "arbol3.left=NodoArbol(2)\r\n",
        "arbol3.left.right=NodoArbol(3)\r\n",
        "arbol3.left.right.left=NodoArbol(4)\r\n",
        "arbol3.right=NodoArbol(5)\r\n",
        "arbol3.right.left=NodoArbol(6)\r\n",
        "arbol3.right.left.right=NodoArbol(8)\r\n",
        "\r\n",
        "\r\n",
        "print('El nodo mas profundo es', temp.nodoProfundo(arbol3))"
      ],
      "execution_count": 13,
      "outputs": [
        {
          "output_type": "stream",
          "text": [
            "El nodo mas profundo es 4\n"
          ],
          "name": "stdout"
        }
      ]
    },
    {
      "cell_type": "code",
      "metadata": {
        "colab": {
          "base_uri": "https://localhost:8080/"
        },
        "id": "s-TtpS0pCOYt",
        "outputId": "64dd5f17-c6e0-450d-8f5e-5e49725bc806"
      },
      "source": [
        "arbol4=NodoArbol(1)\r\n",
        "arbol4.left=NodoArbol(2)\r\n",
        "arbol4.left.right=NodoArbol(3)\r\n",
        "arbol4.left.right.left=NodoArbol(4)\r\n",
        "arbol4.right=NodoArbol(5)\r\n",
        "arbol4.right.left=NodoArbol(6)\r\n",
        "arbol4.right.left.right=NodoArbol(8)\r\n",
        "arbol4.right.left.right.right=NodoArbol(9)\r\n",
        "arbol4.right.left.right.right.right=NodoArbol(10)\r\n",
        "arbol4.right.left.right.right.right.right=NodoArbol(11)\r\n",
        "arbol4.right.left.right.right.right.right.right=NodoArbol(13)\r\n",
        "arbol4.right.left.right.right.right.right.right.right=NodoArbol(13)\r\n",
        "\r\n",
        "\r\n",
        "print('El nodo mas profundo es', temp.nodoProfundo(arbol4))"
      ],
      "execution_count": 17,
      "outputs": [
        {
          "output_type": "stream",
          "text": [
            "El nodo mas profundo es 13\n"
          ],
          "name": "stdout"
        }
      ]
    }
  ]
}